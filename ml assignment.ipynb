{
 "cells": [
  {
   "cell_type": "code",
   "execution_count": 1,
   "id": "75cd60cb-469e-464a-9f0f-ec9964eb5edc",
   "metadata": {},
   "outputs": [
    {
     "data": {
      "text/plain": [
       "'Q1: Explain the following with an example:F\\nC) Artificial IntelligencJ\\n<) Machine Learnin,\\nI) Deep Learning'"
      ]
     },
     "execution_count": 1,
     "metadata": {},
     "output_type": "execute_result"
    }
   ],
   "source": [
    "'''Q1: Explain the following with an example:F\n",
    "C) Artificial IntelligencJ\n",
    "<) Machine Learnin,\n",
    "I) Deep Learning'''"
   ]
  },
  {
   "cell_type": "code",
   "execution_count": 2,
   "id": "fff089a8-a70b-4e51-afdd-0e5da32778a9",
   "metadata": {},
   "outputs": [],
   "source": [
    "# 1...Artificial Intelligence is the concept of creating smart intelligent machines. \n",
    "\n",
    "# 2...Machine Learning is a subset of artificial intelligence that helps you\n",
    "# build AI-driven applications.\n",
    "\n",
    "# 3...Deep Learning is a subset of machine learning that uses vast volumes of data and complex algorithms to train a model."
   ]
  },
  {
   "cell_type": "code",
   "execution_count": 3,
   "id": "c4ccfac2-e0c8-4e37-996e-c7bb74d4ebee",
   "metadata": {},
   "outputs": [
    {
     "data": {
      "text/plain": [
       "'Q2: What is supervised learning? List some examples of supervised learning'"
      ]
     },
     "execution_count": 3,
     "metadata": {},
     "output_type": "execute_result"
    }
   ],
   "source": [
    "'''Q2: What is supervised learning? List some examples of supervised learning'''"
   ]
  },
  {
   "cell_type": "code",
   "execution_count": 4,
   "id": "1bb80919-3088-4c14-8aee-7bf6c58f19fa",
   "metadata": {},
   "outputs": [],
   "source": [
    "# Supervised learning is a type of machine learning in which algorithms learns to make predictions and descisions on the basis of labeled data.\n",
    "\n",
    "# example-- Image and speech recognition, recommendation systems, and fraud detection are all examples of how supervised learning is used."
   ]
  },
  {
   "cell_type": "code",
   "execution_count": 5,
   "id": "6ca47cfd-725d-405f-bbb1-735cf0c9aff7",
   "metadata": {},
   "outputs": [
    {
     "data": {
      "text/plain": [
       "'Q3: \\xa0What is unsupervised learning? List some examples of unsupervised learning'"
      ]
     },
     "execution_count": 5,
     "metadata": {},
     "output_type": "execute_result"
    }
   ],
   "source": [
    "'''Q3:  What is unsupervised learning? List some examples of unsupervised learning'''"
   ]
  },
  {
   "cell_type": "code",
   "execution_count": 6,
   "id": "d8c8e24d-fb7d-42fb-8a33-414aa69194df",
   "metadata": {},
   "outputs": [],
   "source": [
    "# Unsupervised learning is a type of machine learning in which unlabelled data is provided to the machine ,which it is required to analyse and find patters\n",
    "# inside that data.\n",
    "\n",
    "# example-- Market Segmentation, Astronomical Data Analysis, Social Network Analysis."
   ]
  },
  {
   "cell_type": "code",
   "execution_count": 7,
   "id": "1107a966-07c4-4058-bce8-42eb0fb803fd",
   "metadata": {},
   "outputs": [
    {
     "data": {
      "text/plain": [
       "'Q4: What is the difference between AI, ML, DL, and DS?'"
      ]
     },
     "execution_count": 7,
     "metadata": {},
     "output_type": "execute_result"
    }
   ],
   "source": [
    "'''Q4: What is the difference between AI, ML, DL, and DS?'''"
   ]
  },
  {
   "cell_type": "code",
   "execution_count": 8,
   "id": "6a0b2073-15f2-4f22-a113-597df2af0729",
   "metadata": {},
   "outputs": [],
   "source": [
    "# AI simulates human intelligence to perform tasks and make decisions.AI may or may not require large datasets; it can use predefined rules.\n",
    "# ML is a subset of AI that uses algorithms to learn patterns from data.\n",
    "# DL is a subset of ML that employs artificial neural networks for complex tasks.\n",
    "# Data Science deals with structured and unstructured data. Chatbots, and Voice assistants are popular applications of AI."
   ]
  },
  {
   "cell_type": "code",
   "execution_count": 9,
   "id": "72593a49-522c-4b65-90f7-7e0c8d3ac746",
   "metadata": {},
   "outputs": [
    {
     "data": {
      "text/plain": [
       "'Q5: What are the main differences between supervised, unsupervised, and semi-supervised learning?'"
      ]
     },
     "execution_count": 9,
     "metadata": {},
     "output_type": "execute_result"
    }
   ],
   "source": [
    "'''Q5: What are the main differences between supervised, unsupervised, and semi-supervised learning?'''"
   ]
  },
  {
   "cell_type": "code",
   "execution_count": 10,
   "id": "3b7be59f-55b5-408a-b238-c38f5758f1fb",
   "metadata": {},
   "outputs": [
    {
     "data": {
      "text/plain": [
       "'This kind of learning lies in between supervised and unsupervised. It has mixture of labeled and unlabeled data with larger proportion for latter. \\nData available today is mostly of this form, as it is costly, time consuming, and requires expertise to get a huge data labeled. When such data is \\ngiven, unsupervised learning technique is used and followed by supervised learning. Data is divided into clusters and missing labels are predicted.\\nIt is assumed that the data points in same cluster posing same or similar label, basic way to get the labels is by voting or average value among data\\nfalling in same cluster.'"
      ]
     },
     "execution_count": 10,
     "metadata": {},
     "output_type": "execute_result"
    }
   ],
   "source": [
    "# Supervised Learning\n",
    "\n",
    "'''Labeled dataset is a set of data with predictors (input variables) and output (response/target variables). Supervised learning is where you have such\n",
    "a dataset, and you are searching for the best representative function that link or map predictors to relevant target. With availability of response\n",
    "variables, we are able to compare prediction and actual label, and hence modification applied to reduce misprediction and improve model.'''\n",
    "\n",
    "# Unsupervised Learning\n",
    "\n",
    "'''When we have unlabeled data, we are handling unsupervised learning problem. We are clueless whether we are clustering the data points/ tuples correctly.\n",
    "Therefore, challenge for unsupervised learning will be deciding point to stop learning and evaluation of model built. We are not working to do any \n",
    "prediction here, as ‘machine’ is not taught how to predict. Instead, we are exploring and reporting underlying insights and structure of data. Three\n",
    "typical areas applying unsupervised learning is clustering, dimensionality reduction and association analysis.'''\n",
    "\n",
    "# Semi-Supervised Learning\n",
    "\n",
    "'''This kind of learning lies in between supervised and unsupervised. It has mixture of labeled and unlabeled data with larger proportion for latter. \n",
    "Data available today is mostly of this form, as it is costly, time consuming, and requires expertise to get a huge data labeled. When such data is \n",
    "given, unsupervised learning technique is used and followed by supervised learning. Data is divided into clusters and missing labels are predicted.\n",
    "It is assumed that the data points in same cluster posing same or similar label, basic way to get the labels is by voting or average value among data\n",
    "falling in same cluster.'''"
   ]
  },
  {
   "cell_type": "code",
   "execution_count": 11,
   "id": "2006d931-1e9c-4fa1-aaa7-f58facdc3bf2",
   "metadata": {},
   "outputs": [
    {
     "data": {
      "text/plain": [
       "'Q6: What is train, test and validation split? Explain the importance of each term.'"
      ]
     },
     "execution_count": 11,
     "metadata": {},
     "output_type": "execute_result"
    }
   ],
   "source": [
    "'''Q6: What is train, test and validation split? Explain the importance of each term.'''"
   ]
  },
  {
   "cell_type": "code",
   "execution_count": 12,
   "id": "fd84c929-1c78-4e78-95b9-2a74663db5a9",
   "metadata": {},
   "outputs": [],
   "source": [
    "# Train dataset is a type of data which is used to train our model.And train data is very important for our model because without train dataset we \n",
    "# cannot train our model.\n",
    "\n",
    "# Validation dataset is a type of data which is used to perform hyper parameter tuning of model.\n",
    "\n",
    "# Test dataset is a type of data which is used to test our model.This dataset is also very important for our model beacause without this dataset we \n",
    "# cannot check the accuracy of our model.\n"
   ]
  },
  {
   "cell_type": "code",
   "execution_count": 13,
   "id": "ad7c6642-9834-4c38-b12b-172d1ff8bcc7",
   "metadata": {},
   "outputs": [
    {
     "data": {
      "text/plain": [
       "'Q7: How can unsupervised learning be used in anomaly detection?'"
      ]
     },
     "execution_count": 13,
     "metadata": {},
     "output_type": "execute_result"
    }
   ],
   "source": [
    "'''Q7: How can unsupervised learning be used in anomaly detection?'''"
   ]
  },
  {
   "cell_type": "code",
   "execution_count": 14,
   "id": "362b95c7-07c2-4a89-a21e-83604bf951f0",
   "metadata": {},
   "outputs": [
    {
     "data": {
      "text/plain": [
       "'Unsupervised machine learning is one of the main branches of machine learning and it has a multitude of applications. One of the most important is \\nanomaly detection: identifying normal patterns within a data sample and then detecting outliers based on the natural characteristics of the data set\\nitself.'"
      ]
     },
     "execution_count": 14,
     "metadata": {},
     "output_type": "execute_result"
    }
   ],
   "source": [
    "'''Unsupervised machine learning is one of the main branches of machine learning and it has a multitude of applications. One of the most important is \n",
    "anomaly detection: identifying normal patterns within a data sample and then detecting outliers based on the natural characteristics of the data set\n",
    "itself.'''"
   ]
  },
  {
   "cell_type": "code",
   "execution_count": null,
   "id": "836faf0a-eadc-458f-8da4-d35037addaf2",
   "metadata": {},
   "outputs": [],
   "source": [
    "# Some of Supervised learning algorithms are---\n",
    "# 1.Linear regression.\n",
    "# 2.Random forest.\n",
    "# 3.Support vector machines.\n",
    "\n",
    "\n",
    "# Some of Unsupervised learning algorithms are---\n",
    "# 1.K-means clustering.\n",
    "# 2.Apriori algorithm."
   ]
  }
 ],
 "metadata": {
  "kernelspec": {
   "display_name": "Python 3 (ipykernel)",
   "language": "python",
   "name": "python3"
  },
  "language_info": {
   "codemirror_mode": {
    "name": "ipython",
    "version": 3
   },
   "file_extension": ".py",
   "mimetype": "text/x-python",
   "name": "python",
   "nbconvert_exporter": "python",
   "pygments_lexer": "ipython3",
   "version": "3.10.8"
  }
 },
 "nbformat": 4,
 "nbformat_minor": 5
}
